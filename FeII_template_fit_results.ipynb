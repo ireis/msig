{
 "cells": [
  {
   "cell_type": "markdown",
   "metadata": {},
   "source": [
    "# FeII template subtraction - effect on fitting the $H_{\\beta}$, $O III$ region\n",
    "\n",
    "In this notebook we will show the reults of fitting the continuum emission combined with an FeII emission template, and subtracting it from the spectra, before stacking and fitting to find the $H_{\\beta}$, $O III$ properties.\n",
    "\n",
    "### Starting point:\n",
    "* In what we did so far, the continuum was fitted with a straight line between the median flux values at the two following regions: 4190–4215A, 5090- 5110A\n",
    "* The spectra was stacked according to the width of the $H_{\\beta}$ line (how this is done is a seprate issue so we won't discuss it here)\n",
    "* The stacked spectra was fitted in different ways, this is because there are a few components in the $H_{\\beta}$, $O III$ region that there is no correct way (that we know of) to fit. These are:\n",
    "    1. The assymetric shape of the $H_{\\beta}$ line\n",
    "    2. Excess emission in the $O III$ region. Now that we started looking into the FeII emission we know that this emission is FeII. We also now know that there is an additional FeII line between $H_{\\beta}$ and $O III$. When we did the fitting we did not take this into account and the FeII was included in the $O III$ broad line component. This is not great, espcially because this breakes the theoretical relations between the two  $O III$ lines. <br>\n",
    "\n",
    "### An example fit from how we worked so far: <br>\n",
    "<img src=\"fe_cont_nb_figs/old_fit.png\"> <br>\n",
    "Here we tried to fit what is the FeII emission with an additional gaussian, and did not fit broad components for the $O III$ lines. The reulting relation between the broad and narrow lines was the following <br>\n",
    "<img src=\"fe_cont_nb_figs/old_nb_relation.png\"> <br>\n",
    "But we note that the choices we made in fitting the 'free' components did change this result a bit."
   ]
  },
  {
   "cell_type": "markdown",
   "metadata": {},
   "source": [
    "# Fell & continuum fit\n",
    "We used the FeII emission template from http://servo.aob.rs/FeII_AGN/link6.html. This template has 5 different FeII components, and their relative amplitudes are free parameters of the fit. The doppler velocity and the offset are the same for all the FeII components. We take the wavelength range of 4000-5500A, and exlude the $H_{\\beta}$, $O III$ region, and other non-FeII emission regions. We fit a power-law for the continuum and use the templates to fit the FeII emission (this is done for each object separetly, i.e, not for the stacked spectra).\n",
    "### Example fits:\n",
    "<img src=\"fe_cont_nb_figs/fe_fit_2_r.png\"> <br>\n",
    "<img src=\"fe_cont_nb_figs/fe_fit_4_r.png\"> <br>\n",
    "The regions in which the fit is performed are marked in green."
   ]
  },
  {
   "cell_type": "markdown",
   "metadata": {},
   "source": [
    "# Stacked spectra\n",
    "After subtracting the FeII emission and the continuum, we stack the spectra according to the width of the broad $H_{\\beta}$ line. The result is as follows:\n",
    "<img src=\"fe_cont_nb_figs/stacked_spectra_new.png\"> <br>\n",
    "It could be seen that the profile of the $O III$ line does not show the red wing anymore, only the regular blue wing which is usually attributed to outflows. This is a good sign :)"
   ]
  },
  {
   "cell_type": "markdown",
   "metadata": {},
   "source": [
    "# Fit for the $H_{\\beta}$, $O III$ line properties\n",
    "The fit we perform includes the following components:\n",
    "1. Broad $H_{\\beta}$ - voigt profile\n",
    "2. Narrow $H_{\\beta}$ - gaussian\n",
    "3. Narrow $O III$ - gaussian, same doppler velocity as narrow $H_{\\beta}$, fixed position relative to narrow $H_{\\beta}$, fixed 1:3 line ratio between two $O III$ lines\n",
    "4.  Asymmetric $H_{\\beta}$ - gaussian, around 4940\n",
    "5. $O III$ outflows - gaussians, fixed 1:3 line ration between two $O III$ lines, fixed on the blue wing of the $O III$ line\n",
    "\n",
    "### Example fits:\n",
    "<img src=\"fe_cont_nb_figs/new_fit_1.png\"> <br>\n",
    "<img src=\"fe_cont_nb_figs/new_fit_2.png\"> <br>\n",
    "<img src=\"fe_cont_nb_figs/new_fit_3.png\"> <br>\n"
   ]
  },
  {
   "cell_type": "markdown",
   "metadata": {},
   "source": [
    "# Narrow-broad lines relation\n",
    "From the fits above, we get the following relation between the narrow and broad lines:\n",
    "<img src=\"fe_cont_nb_figs/nb_relation_new.png\"> <br>\n",
    "The slope here seems somewhat different than Dalya's slope. Is this acceptable, given that the analysis is different?\n",
    "\n",
    "<br> (In galaxy spectra, is it OK to get somewhat different results if you measure things differently? For example I saw someone says that it is known that the way you measure the width of $H_{\\beta}$ effects the results, and for mass estimation, you should use the same method that was used for calibration) <br>\n",
    "\n",
    "The analysis is different in the sense that here we subtracted the FeII emission, and fitted blueshifted gaussians for the $O III$ lines for outflows, instead of a broad non-blueshifted gaussians."
   ]
  },
  {
   "cell_type": "code",
   "execution_count": null,
   "metadata": {
    "collapsed": true
   },
   "outputs": [],
   "source": []
  }
 ],
 "metadata": {
  "kernelspec": {
   "display_name": "Python 3",
   "language": "python",
   "name": "python3"
  },
  "language_info": {
   "codemirror_mode": {
    "name": "ipython",
    "version": 3
   },
   "file_extension": ".py",
   "mimetype": "text/x-python",
   "name": "python",
   "nbconvert_exporter": "python",
   "pygments_lexer": "ipython3",
   "version": "3.5.2"
  }
 },
 "nbformat": 4,
 "nbformat_minor": 2
}
