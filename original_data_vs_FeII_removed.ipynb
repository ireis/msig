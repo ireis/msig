{
 "cells": [
  {
   "cell_type": "markdown",
   "metadata": {},
   "source": [
    "# Test with the original QSO sample\n",
    "In order to understand why we are getting a different slopes for the $\\log(\\frac{O III}{H_{\\beta}} )$ Vs. $H_{\\beta}$ FWHM relation, we decided to compare the two fitting methods on the same sample of objects. We think that the difference could arise from either:\n",
    "1. The way the objects are ordered,\n",
    "2. The fitting code,\n",
    "3. The different continuum subtraction method,\n",
    "4. FeII emission being subtracted or not. <br>\n",
    "\n",
    "Here we use the spectra from the original sample which is already continuum subtracted."
   ]
  },
  {
   "cell_type": "markdown",
   "metadata": {},
   "source": [
    "# FeII emission fits\n",
    "A few examples of the FeII emission fits are given below. The green areas mark where the fitting was performed.\n",
    "<img src=\"orig_data_fe_fits_nb/ex1.png\"> <br>\n",
    "<img src=\"orig_data_fe_fits_nb/ex2.png\"> <br>\n",
    "<img src=\"orig_data_fe_fits_nb/ex3.png\"> <br>\n",
    "<img src=\"orig_data_fe_fits_nb/ex4.png\"> <br>"
   ]
  },
  {
   "cell_type": "markdown",
   "metadata": {},
   "source": [
    "# Stacked spectra\n",
    "Below is the stacked spectra (where the spectra are ordered by the sequencer), with the FeII emission removed\n",
    "<img src=\"orig_data_fe_fits_nb/stack_fe_removed.png\"> <br>\n",
    "The stacked spectra can be found in orig_data_fe_fits_nb/stacked_spectra_fe_removed.npy"
   ]
  },
  {
   "cell_type": "markdown",
   "metadata": {},
   "source": [
    "# $H_{\\beta}$, $O III$ fitting\n",
    "\n",
    "The FeII is the strongest when the $H_{\\beta}$ is narrow. In the figures below we show the fit stacked spectra with the lowest $H_{\\beta}$ FWHM, once with FeII emission, and once without.\n",
    "<img src=\"orig_data_fe_fits_nb/fit_fe_removed_.png\"> <br>\n",
    "<img src=\"orig_data_fe_fits_nb/fit_original_.png\"> <br>\n",
    "\n",
    "It can be seen in these figures that the $H_{\\beta}$ narrow component is fitted with a larger amplitude in the case when the Fe is not subtracted, this might be the result of the different behavior of the asymmetric $H_{\\beta}$ component. In the original data this componenet fits an FeII line. In the FeII subtracted data, it is free to fit the wing of the $H_{\\beta}$ line. This allows for a narrower broad $H_{\\beta}$ and a smaller narrow $H_{\\beta}$ amplitude. (This is just what I think we can see in these specific figures, not a general conclusion)\n",
    "\n",
    "Note: I think it will still be interesting to see what Dalya gets with her fitting code since the FeII emission seems to have an effect on the OIII broad component fit. Dalya's fit for a low $H_{\\beta}$ FWHM stacked spectra (not the same one as in the figures above):<br>\n",
    "\n",
    "<img src=\"orig_data_fe_fits_nb/dalya_fit_ex.png\"> <br>"
   ]
  },
  {
   "cell_type": "markdown",
   "metadata": {},
   "source": [
    "# Narrow lines ratio Vs. broad lines FWHM correlation\n",
    "The figure below shows the correlation when fitting the original and the FeII subtracted spectra. **Altough the figure looks nice, I'm very far from being convinced that the FeII emission is effecting the slope.**\n",
    "<img src=\"orig_data_fe_fits_nb/corr_compare.png\"> <br>\n"
   ]
  },
  {
   "cell_type": "markdown",
   "metadata": {},
   "source": [
    "# High $H_{\\beta}$ FWHM stacked spectra fits\n",
    "Below are the fits for the highest $H_{\\beta}$ FWHM stacked spectra. I do not see how Fe emission could cause such difference\n",
    "<img src=\"orig_data_fe_fits_nb/fit_high_nlr_fe_removed_.png\"> <br>\n",
    "<img src=\"orig_data_fe_fits_nb/fit_high_nlr_orig_.png\"> <br>"
   ]
  }
 ],
 "metadata": {
  "kernelspec": {
   "display_name": "Python 3",
   "language": "python",
   "name": "python3"
  },
  "language_info": {
   "codemirror_mode": {
    "name": "ipython",
    "version": 3
   },
   "file_extension": ".py",
   "mimetype": "text/x-python",
   "name": "python",
   "nbconvert_exporter": "python",
   "pygments_lexer": "ipython3",
   "version": "3.5.2"
  }
 },
 "nbformat": 4,
 "nbformat_minor": 2
}
